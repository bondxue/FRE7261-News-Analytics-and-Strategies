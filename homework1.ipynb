{
 "cells": [
  {
   "cell_type": "markdown",
   "metadata": {},
   "source": [
    "There are usually 8 FOMC meetings in a year and there is a press release after each meeting. These releases can be found at https://www.federalreserve.gov/newsevents/pressreleases\n",
    "1. Download all these releases for the years of great recessions i.e. 2007, 2008 and 2009  \n",
    "2. Using NLTK, PYTHON, R or any other language\n",
    "    + Determine approximate length of each releases i.e., the number of words\n",
    "    + Besides stop words such as “at”, “the,” and names of participants, what words appeared in all the releases during this time\n",
    "    + Besides proper names such as the name  of participants or the institution e.g. Federal Reserve etc., for each release determine the words that were used only once. Such words are called “hapaxes” and you can use either the “count” method or “hapax” method.\n",
    "    + How many of these releases were followed by a reduction of Fed Fund rate."
   ]
  },
  {
   "cell_type": "code",
   "execution_count": 21,
   "metadata": {},
   "outputs": [],
   "source": [
    "import glob\n",
    "import re"
   ]
  },
  {
   "cell_type": "code",
   "execution_count": 27,
   "metadata": {},
   "outputs": [
    {
     "name": "stdout",
     "output_type": "stream",
     "text": [
      "data\\FOMC_Aug_2007.txt: Number of words = 218\n",
      "data\\FOMC_Aug_2008.txt: Number of words = 257\n",
      "data\\FOMC_Aug_2009.txt: Number of words = 434\n",
      "data\\FOMC_Dec_2007.txt: Number of words = 292\n",
      "data\\FOMC_Dec_2008.txt: Number of words = 413\n",
      "data\\FOMC_Dec_2009.txt: Number of words = 578\n",
      "data\\FOMC_Jan_2007.txt: Number of words = 187\n",
      "data\\FOMC_Jan_2008.txt: Number of words = 264\n",
      "data\\FOMC_Jan_2009.txt: Number of words = 488\n",
      "data\\FOMC_Jun_2007.txt: Number of words = 189\n",
      "data\\FOMC_Jun_2008.txt: Number of words = 262\n",
      "data\\FOMC_Jun_2009.txt: Number of words = 392\n",
      "data\\FOMC_Mar_2007.txt: Number of words = 176\n",
      "data\\FOMC_Mar_2008.txt: Number of words = 302\n",
      "data\\FOMC_Mar_2009.txt: Number of words = 433\n",
      "data\\FOMC_May_2007.txt: Number of words = 175\n",
      "data\\FOMC_May_2008.txt: Number of words = 320\n",
      "data\\FOMC_May_2009.txt: Number of words = 439\n",
      "data\\FOMC_Oct_2007.txt: Number of words = 315\n",
      "data\\FOMC_Oct_2008.txt: Number of words = 300\n",
      "data\\FOMC_Oct_2009.txt: Number of words = 477\n",
      "data\\FOMC_Sep_2007.txt: Number of words = 268\n",
      "data\\FOMC_Sep_2008.txt: Number of words = 235\n",
      "data\\FOMC_Sep_2009.txt: Number of words = 439\n"
     ]
    }
   ],
   "source": [
    "path = \"data/*.txt\"\n",
    "for fname in glob.glob(path):\n",
    "    num_words = 0\n",
    "    with open(fname, 'r') as f:\n",
    "        for line in f:\n",
    "            words = line.split()\n",
    "            num_words += len(words)\n",
    "        print(\"{f}: Number of words = {w}\".format(f=fname, w=num_words))"
   ]
  },
  {
   "cell_type": "code",
   "execution_count": null,
   "metadata": {},
   "outputs": [],
   "source": []
  }
 ],
 "metadata": {
  "kernelspec": {
   "display_name": "Python 3",
   "language": "python",
   "name": "python3"
  },
  "language_info": {
   "codemirror_mode": {
    "name": "ipython",
    "version": 3
   },
   "file_extension": ".py",
   "mimetype": "text/x-python",
   "name": "python",
   "nbconvert_exporter": "python",
   "pygments_lexer": "ipython3",
   "version": "3.6.7"
  }
 },
 "nbformat": 4,
 "nbformat_minor": 2
}
