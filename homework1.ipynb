{
 "cells": [
  {
   "cell_type": "markdown",
   "metadata": {},
   "source": [
    "There are usually 8 FOMC meetings in a year and there is a press release after each meeting. These releases can be found at https://www.federalreserve.gov/newsevents/pressreleases\n",
    "1. Download all these releases for the years of great recessions i.e. 2007, 2008 and 2009  \n",
    "2. Using NLTK, PYTHON, R or any other language\n",
    "    + Determine approximate length of each releases i.e., the number of words\n",
    "    + Besides stop words such as “at”, “the,” and names of participants, what words appeared in all the releases during this time\n",
    "    + Besides proper names such as the name  of participants or the institution e.g. Federal Reserve etc., for each release determine the words that were used only once. Such words are called “hapaxes” and you can use either the “count” method or “hapax” method.\n",
    "    + How many of these releases were followed by a reduction of Fed Fund rate."
   ]
  },
  {
   "cell_type": "code",
   "execution_count": 79,
   "metadata": {},
   "outputs": [],
   "source": [
    "import glob\n",
    "import re\n",
    "import nltk\n",
    "from nltk.corpus import stopwords\n",
    "from nltk.tokenize import word_tokenize"
   ]
  },
  {
   "cell_type": "markdown",
   "metadata": {},
   "source": [
    "### Determine approximate length of each releases i.e., the number of words"
   ]
  },
  {
   "cell_type": "code",
   "execution_count": 80,
   "metadata": {},
   "outputs": [
    {
     "name": "stdout",
     "output_type": "stream",
     "text": [
      "data\\FOMC_Aug_2007.txt: Number of words = 218\n",
      "data\\FOMC_Aug_2008.txt: Number of words = 257\n",
      "data\\FOMC_Aug_2009.txt: Number of words = 434\n",
      "data\\FOMC_Dec_2007.txt: Number of words = 292\n",
      "data\\FOMC_Dec_2008.txt: Number of words = 413\n",
      "data\\FOMC_Dec_2009.txt: Number of words = 578\n",
      "data\\FOMC_Jan_2007.txt: Number of words = 187\n",
      "data\\FOMC_Jan_2008.txt: Number of words = 264\n",
      "data\\FOMC_Jan_2009.txt: Number of words = 488\n",
      "data\\FOMC_Jun_2007.txt: Number of words = 189\n",
      "data\\FOMC_Jun_2008.txt: Number of words = 262\n",
      "data\\FOMC_Jun_2009.txt: Number of words = 392\n",
      "data\\FOMC_Mar_2007.txt: Number of words = 176\n",
      "data\\FOMC_Mar_2008.txt: Number of words = 302\n",
      "data\\FOMC_Mar_2009.txt: Number of words = 433\n",
      "data\\FOMC_May_2007.txt: Number of words = 175\n",
      "data\\FOMC_May_2008.txt: Number of words = 320\n",
      "data\\FOMC_May_2009.txt: Number of words = 439\n",
      "data\\FOMC_Oct_2007.txt: Number of words = 315\n",
      "data\\FOMC_Oct_2008.txt: Number of words = 300\n",
      "data\\FOMC_Oct_2009.txt: Number of words = 477\n",
      "data\\FOMC_Sep_2007.txt: Number of words = 268\n",
      "data\\FOMC_Sep_2008.txt: Number of words = 235\n",
      "data\\FOMC_Sep_2009.txt: Number of words = 439\n"
     ]
    }
   ],
   "source": [
    "path = \"data/*.txt\"\n",
    "for fname in glob.glob(path):\n",
    "    num_words = 0\n",
    "    with open(fname, 'r') as f:\n",
    "        for line in f:\n",
    "            words = line.split()\n",
    "            num_words += len(words)\n",
    "        print(\"{f}: Number of words = {w}\".format(f=fname, w=num_words))     "
   ]
  },
  {
   "cell_type": "markdown",
   "metadata": {},
   "source": [
    "### Besides stop words such as “at”, “the,” and names of participants, what words appeared in all the releases during this time"
   ]
  },
  {
   "cell_type": "code",
   "execution_count": 86,
   "metadata": {},
   "outputs": [
    {
     "name": "stdout",
     "output_type": "stream",
     "text": [
      "['action', 'immediate', 'market', 'growth', 'monetary', 'inflation', 'chairman', 'committee', 'release', 'share', 'federal', 'funds', 'target', 'rate', 'statement', 'fomc', 'economic', 'voting', 'open', 'policy', 'percent']\n"
     ]
    }
   ],
   "source": [
    "stop_words = set(stopwords.words('english'))\n",
    "path = \"data/*.txt\"\n",
    "comwords = newwords = set()\n",
    "flag = 0 \n",
    "for fname in glob.glob(path):\n",
    "    with open(fname, 'r') as f:\n",
    "        content = f.read()\n",
    "        only_words = re.sub(\"[^a-zA-Z]\", \" \", content) # Remove anything that isn't a 'word'\n",
    "        no_single = re.sub(r'(?:^| )\\w(?:$| )', ' ', only_words).strip() # Remove any words consisting of a single character\n",
    "        if flag == 0:\n",
    "            comwords = set(word.strip(drop) for word in no_single.lower().split())\n",
    "            flag = 1\n",
    "            \n",
    "        newwords = set(word.strip(drop) for word in no_single.lower().split())\n",
    "        comwords = comwords.intersection(newwords)\n",
    "        \n",
    "        \n",
    "comwords = [word for word in list(comwords) if not word in set(stopwords.words('english'))]\n",
    "names = ['kevin', 'kohn', 'bernanke', 'ben', 'warsh', 'donald']\n",
    "comwords = [word for word in comwords if word not in names]\n",
    "print(comwords)  "
   ]
  },
  {
   "cell_type": "markdown",
   "metadata": {},
   "source": [
    "### Besides proper names such as the name  of participants or the institution e.g. Federal Reserve etc., for each release determine the words that were used only once. Such words are called “hapaxes” and you can use either the “count” method or “hapax” method."
   ]
  },
  {
   "cell_type": "code",
   "execution_count": 70,
   "metadata": {},
   "outputs": [
    {
     "name": "stdout",
     "output_type": "stream",
     "text": [
      "\n",
      "=============data\\FOMC_Aug_2007.txt: =====================\n",
      "statement immediate release share open market decided today keep target funds rate percent first half year financial markets volatile weeks credit conditions become tighter households businesses housing correction ongoing nevertheless seems likely continue expand pace coming quarters supported solid employment incomes robust global readings core improved modestly months however sustained moderation yet convincingly demonstrated moreover high level resource utilization potential sustain although downside risks increased somewhat predominant concern remains risk fail expected future adjustments depend outlook implied incoming information voting monetary action ben bernanke timothy geithner vice thomas hoenig donald kohn randall kroszner frederic mishkin michael moskow william poole eric rosengren kevin warsh last update august \n",
      "=============data\\FOMC_Aug_2008.txt: =====================\n",
      "statement immediate release share open decided today keep percent activity expanded second quarter partly reflecting consumer spending exports however labor softened considerable stress tight credit conditions housing contraction likely weigh quarters time substantial easing combined measures foster liquidity help high spurred earlier increases commodities indicators expectations expects later outlook remains highly uncertain although downside upside also significant concern continue monitor developments act needed sustainable price stability action ben bernanke timothy geithner vice elizabeth duke donald kohn randall kroszner frederic mishkin sandra pianalto charles plosser gary stern kevin warsh richard fisher preferred increase meeting last update august \n",
      "=============data\\FOMC_Aug_2009.txt: =====================\n",
      "statement immediate release share information received since open met june suggests leveling improved recent weeks household spending continued show signs stabilizing remains constrained ongoing job losses sluggish income lower wealth tight businesses still cutting back fixed investment staffing making progress bringing inventory stocks better alignment sales although weak actions stabilize institutions fiscal stimulus forces contribute gradual resumption sustainable context prices energy commodities risen late however substantial resource slack dampen cost pressures expects inflation subdued circumstances employ available tools recovery preserve maintain target range percent warrant exceptionally low levels extended period previously announced provide support lending improve private purchase total trillion backed debt year addition process buying smooth transition completed decided gradually slow pace transactions anticipates full amount purchased october continue evaluate timing amounts light evolving outlook monitoring size composition balance sheet make adjustments liquidity programs warranted voting action ben bernanke william dudley vice elizabeth duke charles evans donald kohn jeffrey lacker dennis lockhart daniel tarullo kevin warsh janet yellen last update august \n",
      "=============data\\FOMC_Dec_2007.txt: =====================\n",
      "statement immediate release share open decided incoming information suggests slowing reflecting intensification housing correction softening business consumer spending moreover strains markets weeks combined actions taken earlier help promote moderate time readings core improved modestly year elevated energy commodity prices among factors may put upward pressure context judges risks remain monitor carefully including deterioration conditions uncertainty surrounding outlook assess effects prospects act needed foster price stability sustainable monetary ben bernanke timothy geithner vice charles evans thomas hoenig donald kohn randall kroszner frederic mishkin william poole kevin warsh eric rosengren preferred meeting related governors unanimously point decrease discount taking requests submitted boards directors reserve banks new york philadelphia cleveland richmond atlanta chicago st louis last update december \n",
      "=============data\\FOMC_Dec_2008.txt: =====================\n",
      "statement immediate release share decided today establish target range since meeting labor deteriorated data indicate consumer spending business investment industrial production declined remain quite strained tight overall outlook weakened meanwhile inflationary pressures diminished appreciably light declines prices energy commodities weaker prospects expects inflation moderate coming employ tools promote resumption sustainable growth preserve price stability particular anticipates weak likely exceptionally low levels time focus going forward functioning stimulate economy operations measures sustain size high level previously announced purchase large quantities provide housing stands ready expand purchases evaluating potential benefits purchasing longer treasury early year implement asset loan facility facilitate extension households small businesses continue consider ways using voting monetary ben bernanke chairman christine cumming elizabeth duke richard fisher donald kohn randall kroszner sandra pianalto charles plosser gary stern kevin warsh related governors unanimously basis point decrease discount taking requests submitted boards directors banks new york cleveland richmond atlanta minneapolis san francisco established interest rates required excess balances update december \n",
      "=============data\\FOMC_Dec_2009.txt: =====================\n",
      "statement immediate release share information received since open met november suggests continued pick deterioration abating sector shown signs improvement recent months household spending appears expanding moderate remains constrained modest income lower wealth tight businesses still cutting fixed investment slower reluctant add payrolls make progress bringing inventory stocks better alignment sales become supportive although actions stabilize institutions fiscal stimulus forces contribute strengthening gradual return higher context price substantial slack dampen cost pressures longer maintain target range percent continues including rates trends warrant exceptionally extended period provide improve private process purchasing trillion billion debt order promote smooth transition gradually slowing transactions executed end first quarter evaluate timing evolving outlook ongoing improvements functioning board governors special expire consistent announcement include money mutual fund funding primary dealer also working central bank counterparties close temporary swap arrangements provided auction scaled early anticipated expiration dates loan set new issue march types collateral prepared modify plans necessary voting action ben bernanke william dudley vice elizabeth duke charles evans donald kohn jeffrey lacker dennis lockhart daniel tarullo kevin warsh janet yellen \n",
      "=============data\\FOMC_Jan_2007.txt: =====================\n",
      "statement immediate release share open decided today keep target funds rate percent indicators suggested somewhat firmer tentative signs stabilization appeared housing overall economy seems expand pace coming quarters readings core improved modestly months seem time however high level resource utilization potential sustain judges remain extent timing additional firming may needed address depend evolution outlook implied incoming information voting monetary policy action ben bernanke timothy geithner vice susan bies thomas hoenig donald kohn randall kroszner cathy minehan frederic mishkin michael moskow william poole kevin warsh last update january \n",
      "=============data\\FOMC_Jan_2008.txt: =====================\n",
      "statement immediate release share open market decided lower points considerable stress credit tightened businesses households moreover recent information indicates deepening housing contraction well softening labor expects coming quarters necessary monitor carefully combined taken earlier help promote time mitigate activity however downside assess effects prospects act timely manner needed address monetary ben bernanke timothy geithner vice donald kohn randall kroszner frederic mishkin sandra pianalto charles plosser gary stern kevin warsh richard fisher preferred change meeting related governors unanimously point decrease discount taking requests submitted boards directors reserve banks boston new york philadelphia cleveland atlanta chicago st louis kansas city san francisco last update january \n",
      "=============data\\FOMC_Jan_2009.txt: =====================\n",
      "statement immediate release share decided today target range percent anticipate exceptionally low levels information received since met december suggests weakened industrial production starts employment continued decline steeply consumers cut back spending furthermore global demand appears slowing significantly improved part reflecting government efforts liquidity strengthen institutions nevertheless firms extremely tight anticipates gradual recovery begin later year downside risks outlook significant declines prices energy commodities recent months prospects considerable slack expects pressures subdued coming quarters moreover sees risk could persist rates best foster employ available tools promote resumption sustainable focus functioning stimulate operations measures high level large quantities agency debt stands ready quantity purchases duration program also prepared circumstances indicate transactions particularly effective improving private implementing asset loan facility facilitate extension small continue monitor carefully composition developments assess whether expansions modifications lending facilities serve help action ben bernanke william dudley vice elizabeth duke charles evans donald kohn dennis lockhart kevin warsh janet yellen jeffrey lacker preferred base purchasing rather targeted programs last update january \n",
      "=============data\\FOMC_Jun_2007.txt: =====================\n",
      "statement immediate release share open market decided today keep target funds rate percent appears first half year despite ongoing adjustment housing sector economy seems likely continue expand pace coming quarters readings core improved modestly recent months however sustained moderation yet convincingly demonstrated moreover high level resource utilization potential sustain circumstances predominant concern remains risk fail expected future adjustments depend evolution outlook implied incoming information voting monetary action ben bernanke timothy geithner vice thomas hoenig donald kohn randall kroszner cathy minehan frederic mishkin michael moskow william poole kevin warsh last update june \n",
      "=============data\\FOMC_Jun_2008.txt: =====================\n",
      "statement immediate release share open decided today keep percent recent information indicates overall activity continues expand partly reflecting firming household spending labor softened considerable stress tight credit conditions housing contraction rise likely weigh quarters expects later light continued increases commodities elevated state indicators uncertainty outlook remains high substantial easing date combined measures foster liquidity help time although downside appear diminished somewhat upside increased continue monitor developments act needed sustainable price stability action ben bernanke timothy geithner vice donald kohn randall kroszner frederic mishkin sandra pianalto charles plosser gary stern kevin warsh richard fisher preferred increase meeting last update june \n",
      "=============data\\FOMC_Jun_2009.txt: =====================\n",
      "statement immediate release share information received since open met april suggests pace contraction slowing generally improved recent months household spending shown signs stabilizing remains constrained ongoing job losses lower wealth tight businesses cutting back fixed investment staffing appear making progress bringing inventory stocks better alignment sales although activity weak actions stabilize institutions fiscal stimulus forces contribute gradual resumption sustainable growth context prices energy commodities risen late however substantial resource slack dampen cost pressures expects inflation subdued circumstances employ available tools promote recovery preserve maintain target range percent warrant exceptionally low levels extended period previously announced provide support lending improve private purchase total trillion backed debt end year addition buy treasury autumn continue evaluate timing amounts purchases light evolving outlook monitoring size composition balance sheet make adjustments liquidity programs warranted voting action ben bernanke william dudley vice elizabeth duke charles evans donald kohn jeffrey lacker dennis lockhart daniel tarullo kevin warsh janet yellen last update june \n",
      "=============data\\FOMC_Mar_2007.txt: =====================\n",
      "statement immediate release share open market decided today keep target funds rate percent indicators mixed adjustment housing sector ongoing nevertheless economy seems continue expand pace coming quarters readings core somewhat elevated although seem time high level resource utilization potential sustain circumstances predominant concern remains risk fail expected future adjustments depend evolution outlook economic growth implied incoming information voting monetary action ben bernanke timothy geithner vice thomas hoenig donald kohn randall kroszner cathy minehan frederic mishkin michael moskow william poole kevin warsh last update march \n",
      "=============data\\FOMC_Mar_2008.txt: =====================\n",
      "statement immediate release share open decided lower target funds points recent information indicates weakened consumer spending slowed labor softened financial considerable stress tightening credit conditions deepening housing contraction likely weigh next elevated indicators expectations risen expects coming reflecting projected leveling energy commodity prices easing pressures resource utilization still uncertainty increased necessary continue monitor developments carefully combined taken earlier including measures foster liquidity help time mitigate however downside act timely manner needed sustainable price stability monetary ben bernanke timothy geithner vice donald kohn randall kroszner frederic mishkin sandra pianalto gary stern kevin warsh richard fisher charles plosser preferred less aggressive meeting related governors unanimously point decrease discount taking requests submitted boards directors reserve banks boston new york san francisco last update march \n",
      "=============data\\FOMC_Mar_2009.txt: =====================\n",
      "statement immediate release share information received since open market met january indicates economy continues contract job losses declining equity wealth tight weighed consumer sentiment spending weaker sales prospects difficulties obtaining led cut back inventories fixed investment exports slumped number major trading partners also fallen recession although near outlook weak actions stabilize institutions together fiscal stimulus contribute gradual resumption sustainable increasing slack abroad expects remain subdued sees risk could persist time rates best foster circumstances employ available tools promote recovery preserve maintain target percent warrant exceptionally low levels extended period provide greater support lending today purchasing additional bringing trillion debt help improve private purchase treasury next six months launched asset loan facilitate extension households small eligible collateral expanded include assets continue carefully monitor composition evolving developments voting action ben bernanke william dudley vice elizabeth duke charles evans donald kohn jeffrey lacker dennis lockhart daniel tarullo kevin warsh janet yellen last update march \n",
      "=============data\\FOMC_May_2007.txt: =====================\n",
      "statement immediate release share open market decided today keep target funds rate percent slowed first part year adjustment housing sector ongoing nevertheless economy seems expand pace coming quarters core somewhat elevated although seem time high level resource utilization potential sustain circumstances predominant concern risk fail expected future adjustments depend evolution outlook implied incoming information voting monetary action ben bernanke timothy geithner vice thomas hoenig donald kohn randall kroszner cathy minehan frederic mishkin michael moskow william poole kevin warsh last update may \n",
      "=============data\\FOMC_May_2008.txt: =====================\n",
      "statement immediate release share open decided today lower points information indicates weak household business spending subdued labor softened remain considerable stress tight credit conditions deepening housing contraction likely weigh next although readings core improved somewhat increased indicators expectations risen months expects coming reflecting projected leveling pressures resource utilization still uncertainty outlook high necessary carefully substantial date combined ongoing measures foster liquidity help time mitigate risks act needed sustainable price stability ben bernanke timothy geithner vice donald kohn randall kroszner frederic mishkin sandra pianalto gary stern kevin warsh richard fisher charles plosser preferred change meeting related governors unanimously point decrease discount taking requests submitted boards directors reserve banks new york cleveland atlanta san francisco last update \n",
      "=============data\\FOMC_May_2009.txt: =====================\n",
      "statement immediate release share information received open met indicates economy continued contract though pace contraction appears somewhat slower household spending shown signs stabilizing remains constrained ongoing job losses lower wealth tight sales prospects difficulties obtaining led cut back inventories fixed investment staffing although improved modestly meeting partly reflecting easing activity nonetheless continues anticipate actions stabilize institutions fiscal stimulus forces contribute gradual resumption sustainable context increasing slack abroad expects subdued moreover sees risk could persist rates best foster longer term circumstances employ available tools promote recovery preserve maintain target percent anticipates warrant exceptionally low levels extended period previously announced provide support lending improve private purchase total trillion backed debt end year addition buy treasury autumn evaluate timing amounts purchases evolving facilitating extension households supporting functioning liquidity programs carefully monitor size composition balance sheet developments voting action ben bernanke william dudley vice elizabeth duke charles evans donald kohn jeffrey lacker dennis lockhart daniel tarullo kevin warsh janet yellen last update april \n",
      "=============data\\FOMC_Oct_2007.txt: =====================\n",
      "statement immediate release share open market decided lower target points solid third quarter strains eased somewhat however pace expansion likely slow near term partly reflecting intensification housing correction combined taken september help forestall adverse broader economy might otherwise arise disruptions promote moderate time readings core improved modestly year recent increases energy commodity prices among factors may put renewed upward pressure context remain monitor carefully upside roughly downside assess prospects act needed foster price stability sustainable monetary ben bernanke timothy geithner vice charles evans donald kohn randall kroszner frederic mishkin william poole eric rosengren kevin warsh thomas hoenig preferred change meeting related governors unanimously point decrease discount taking requests submitted boards directors reserve banks new york richmond atlanta chicago st louis san francisco last update october \n",
      "=============data\\FOMC_Oct_2008.txt: =====================\n",
      "statement immediate release share open decided lower target funds points pace appears slowed markedly owing importantly decline consumer expenditures business equipment industrial production weakened months slowing many foreign economies damping exports moreover intensification turmoil likely exert additional restraint partly reducing ability households businesses obtain light declines prices energy commodities weaker expects inflation coming quarters levels consistent actions including reduction coordinated interest cuts central extraordinary liquidity measures official steps strengthen systems help time improve conditions return nevertheless downside risks remain monitor developments carefully act needed sustainable voting monetary ben bernanke timothy geithner vice elizabeth duke richard fisher donald kohn randall kroszner sandra pianalto charles plosser gary stern kevin warsh related governors unanimously point decrease discount taking requests submitted boards directors reserve boston new york cleveland san francisco last update october \n",
      "=============data\\FOMC_Oct_2009.txt: =====================\n",
      "statement immediate release share information received since open met september suggests continued pick roughly unchanged intermeeting sector increased months household spending appears expanding remains constrained ongoing job losses sluggish income lower wealth tight businesses still cutting back fixed investment staffing though slower progress bringing inventory stocks better alignment sales although weak actions stabilize institutions fiscal stimulus forces strengthening gradual return higher context substantial slack dampen cost pressures longer term expects circumstances employ wide tools recovery preserve maintain target percent continues anticipate including rates trends warrant exceptionally extended provide lending improve private purchase total trillion amount somewhat less previously announced maximum consistent path reflects limited availability order smooth transition gradually slow transactions executed end first quarter evaluate timing amounts light evolving outlook monitoring size composition sheet adjustments liquidity programs warranted voting action ben bernanke william dudley vice elizabeth duke charles evans donald kohn jeffrey lacker dennis lockhart daniel tarullo kevin warsh janet yellen last update november \n",
      "=============data\\FOMC_Sep_2007.txt: =====================\n",
      "statement immediate release share open market decided lower target funds points first half tightening credit conditions potential intensify housing correction restrain generally intended help forestall adverse broader economy might otherwise arise disruptions promote time readings core improved modestly however judges risks remain monitor carefully since regular meeting increased uncertainty surrounding outlook assess prospects act needed foster price stability sustainable voting monetary policy ben bernanke timothy geithner vice charles evans thomas hoenig donald kohn randall kroszner frederic mishkin william poole eric rosengren kevin warsh related governors unanimously point decrease discount taking requests submitted boards directors reserve banks boston new york cleveland st louis minneapolis kansas city san francisco update september \n",
      "=============data\\FOMC_Sep_2008.txt: =====================\n",
      "statement immediate release share open decided today keep target funds rate percent strains increased significantly labor weakened appears slowed recently partly reflecting softening household spending tight credit conditions housing contraction slowing export likely weigh quarters time substantial easing combined measures foster liquidity help high spurred earlier increases prices energy commodities expects later outlook remains highly uncertain downside upside significant concern monitor developments carefully act needed sustainable price stability voting action ben bernanke chairman christine elizabeth duke richard fisher donald kohn randall kroszner sandra pianalto charles plosser gary stern kevin warsh ms voted alternate timothy geithner last update september \n",
      "=============data\\FOMC_Sep_2009.txt: =====================\n",
      "statement immediate release share information received since open met august suggests picked following severe downturn improved sector increased household spending seems stabilizing remains constrained ongoing job losses sluggish income lower wealth tight businesses still cutting back fixed investment staffing though slower progress bringing inventory stocks better alignment sales although weak actions stabilize institutions fiscal stimulus forces strengthening gradual return higher utilization context substantial slack dampen cost pressures longer term expectations stable expects subdued circumstances employ wide tools recovery preserve maintain target percent continues anticipate warrant exceptionally low extended period provide lending improve private purchase total trillion backed debt gradually slow order smooth transition executed first quarter previously announced treasury completed october evaluate timing amounts light evolving outlook monitoring size composition balance sheet adjustments liquidity programs warranted voting action ben bernanke william dudley vice elizabeth duke charles evans donald kohn jeffrey lacker dennis lockhart daniel tarullo kevin warsh janet yellen last update september "
     ]
    }
   ],
   "source": [
    "from collections import Counter\n",
    "\n",
    "path = \"data/*.txt\"\n",
    "for fname in glob.glob(path):\n",
    "\n",
    "    with open(fname, 'r') as f:\n",
    "        wordcount = []\n",
    "        for line in f:\n",
    "            content = f.read()\n",
    "            only_words = re.sub(\"[^a-zA-Z]\", \" \", content) # Remove anything that isn't a 'word'\n",
    "            no_single = re.sub(r'(?:^| )\\w(?:$| )', ' ', only_words).strip() # Remove any words consisting of a single character\n",
    "            words = [word.strip(drop) for word in no_single.lower().split()]\n",
    "            wordcount.extend(words)\n",
    "        \n",
    "        wordcount = [word for word in list(wordcount) if not word in set(stopwords.words('english'))]\n",
    "        word_counter = Counter(wordcount)\n",
    "\n",
    "        print('\\n============={}: ====================='.format(fname))\n",
    "        for word, count in word_counter.most_common():\n",
    "            if count == 1:\n",
    "                print(word, end=\" \")"
   ]
  },
  {
   "cell_type": "markdown",
   "metadata": {},
   "source": [
    "### How many of these releases were followed by a reduction of Fed Fund rate.\n",
    "+ Based on my observation, there are 7 releases followed by a reduction of Fed Fund rate. "
   ]
  },
  {
   "cell_type": "code",
   "execution_count": 123,
   "metadata": {},
   "outputs": [
    {
     "name": "stdout",
     "output_type": "stream",
     "text": [
      "\n",
      "=============data\\FOMC_Aug_2007.txt: =====================\n",
      "no matches\n",
      "\n",
      "=============data\\FOMC_Aug_2008.txt: =====================\n",
      "no matches\n",
      "\n",
      "=============data\\FOMC_Aug_2009.txt: =====================\n",
      "Displaying 1 of 1 matches:\n",
      "ob losses , sluggish income growth , lower housing wealth , and tight credit . \n",
      "\n",
      "=============data\\FOMC_Dec_2007.txt: =====================\n",
      "Displaying 2 of 2 matches:\n",
      "en Market Committee decided today to lower its target for the federal funds rat\n",
      "Eric S. Rosengren , who preferred to lower the target for the federal funds rat\n",
      "\n",
      "=============data\\FOMC_Dec_2008.txt: =====================\n",
      "no matches\n",
      "\n",
      "=============data\\FOMC_Dec_2009.txt: =====================\n",
      "Displaying 1 of 1 matches:\n",
      "abor market , modest income growth , lower housing wealth , and tight credit . \n",
      "\n",
      "=============data\\FOMC_Jan_2007.txt: =====================\n",
      "no matches\n",
      "\n",
      "=============data\\FOMC_Jan_2008.txt: =====================\n",
      "Displaying 1 of 1 matches:\n",
      "en Market Committee decided today to lower its target for the federal funds rat\n",
      "\n",
      "=============data\\FOMC_Jan_2009.txt: =====================\n",
      "no matches\n",
      "\n",
      "=============data\\FOMC_Jun_2007.txt: =====================\n",
      "no matches\n",
      "\n",
      "=============data\\FOMC_Jun_2008.txt: =====================\n",
      "no matches\n",
      "\n",
      "=============data\\FOMC_Jun_2009.txt: =====================\n",
      "Displaying 1 of 1 matches:\n",
      " constrained by ongoing job losses , lower housing wealth , and tight credit . \n",
      "\n",
      "=============data\\FOMC_Mar_2007.txt: =====================\n",
      "no matches\n",
      "\n",
      "=============data\\FOMC_Mar_2008.txt: =====================\n",
      "Displaying 1 of 1 matches:\n",
      "en Market Committee decided today to lower its target for the federal funds rat\n",
      "\n",
      "=============data\\FOMC_Mar_2009.txt: =====================\n",
      "no matches\n",
      "\n",
      "=============data\\FOMC_May_2007.txt: =====================\n",
      "no matches\n",
      "\n",
      "=============data\\FOMC_May_2008.txt: =====================\n",
      "Displaying 1 of 1 matches:\n",
      "en Market Committee decided today to lower its target for the federal funds rat\n",
      "\n",
      "=============data\\FOMC_May_2009.txt: =====================\n",
      "Displaying 1 of 1 matches:\n",
      " constrained by ongoing job losses , lower housing wealth , and tight credit . \n",
      "\n",
      "=============data\\FOMC_Oct_2007.txt: =====================\n",
      "Displaying 1 of 1 matches:\n",
      "en Market Committee decided today to lower its target for the federal funds rat\n",
      "\n",
      "=============data\\FOMC_Oct_2008.txt: =====================\n",
      "Displaying 1 of 1 matches:\n",
      "en Market Committee decided today to lower its target for the federal funds rat\n",
      "\n",
      "=============data\\FOMC_Oct_2009.txt: =====================\n",
      "Displaying 1 of 1 matches:\n",
      "ob losses , sluggish income growth , lower housing wealth , and tight credit . \n",
      "\n",
      "=============data\\FOMC_Sep_2007.txt: =====================\n",
      "Displaying 1 of 1 matches:\n",
      "en Market Committee decided today to lower its target for the federal funds rat\n",
      "\n",
      "=============data\\FOMC_Sep_2008.txt: =====================\n",
      "no matches\n",
      "\n",
      "=============data\\FOMC_Sep_2009.txt: =====================\n",
      "Displaying 1 of 1 matches:\n",
      "ob losses , sluggish income growth , lower housing wealth , and tight credit . \n"
     ]
    }
   ],
   "source": [
    "count = 0\n",
    "for fname in glob.glob(path):\n",
    "    with open(fname, 'r') as f:\n",
    "        content = f.read()\n",
    "        tokens = nltk.word_tokenize(content)\n",
    "        text = nltk.Text(tokens)\n",
    "        print('\\n============={}: ====================='.format(fname))\n",
    "        text.concordance('lower')\n",
    "#         text.common_contexts([\"lower\", \"target\"])\n",
    "    "
   ]
  },
  {
   "cell_type": "code",
   "execution_count": null,
   "metadata": {},
   "outputs": [],
   "source": []
  }
 ],
 "metadata": {
  "kernelspec": {
   "display_name": "Python 3",
   "language": "python",
   "name": "python3"
  },
  "language_info": {
   "codemirror_mode": {
    "name": "ipython",
    "version": 3
   },
   "file_extension": ".py",
   "mimetype": "text/x-python",
   "name": "python",
   "nbconvert_exporter": "python",
   "pygments_lexer": "ipython3",
   "version": "3.6.7"
  }
 },
 "nbformat": 4,
 "nbformat_minor": 2
}
