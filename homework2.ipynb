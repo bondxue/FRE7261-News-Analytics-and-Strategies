{
 "cells": [
  {
   "cell_type": "markdown",
   "metadata": {},
   "source": [
    "## PRINCIPAL COMPONENT ANALYSIS\n",
    "\n",
    "Consider daily closing prices of the “FANG” stocks from 1/1/2019 until 12/1/2019\n",
    "\n",
    "Facebook (FB)\n",
    "\n",
    "Apple (AAPL)\n",
    "\n",
    "Netflix (NFLX)\n",
    "\n",
    "Google (GOOG)\n",
    "\n",
    "(you can download the closing prices from Yahoo Finance)\n",
    "\n",
    "+ Determine daily return of these stocks\n",
    "+ Calculate the four Principal Components of these daily returns\n",
    "+ Standardize the data and calculate the correlation matrix\n",
    "+ Calculate the four Principal Components of the standardized daily returns"
   ]
  },
  {
   "cell_type": "code",
   "execution_count": 14,
   "metadata": {},
   "outputs": [],
   "source": [
    "import numpy as np\n",
    "import matplotlib.pyplot as plt\n",
    "import pandas as pd\n",
    "from sklearn.decomposition import PCA as sklearnPCA\n",
    "import pandas_datareader as pdr\n",
    "import datetime"
   ]
  },
  {
   "cell_type": "markdown",
   "metadata": {},
   "source": [
    "### Determine daily return of these stocks"
   ]
  },
  {
   "cell_type": "code",
   "execution_count": 11,
   "metadata": {},
   "outputs": [],
   "source": [
    "stocks = ['FB', 'AAPL', 'NFLX', 'GOOG']\n",
    "# stocks = 'FB'\n",
    "start = datetime.datetime(2019,1, 1)\n",
    "end = datetime.datetime(2019,12, 1)\n",
    "flag = 0\n",
    "for stock in stocks:\n",
    "    if flag == 0:\n",
    "        price_df = pdr.DataReader(stock, 'yahoo',start,end)\n",
    "        price_df = price_df[['Adj Close']]\n",
    "        \n",
    "        flag = 1\n",
    "    else:\n",
    "        \n",
    "        price_df = pd.merge(price_df, pdr.DataReader(stock, 'yahoo',start,end)[['Adj Close']], on='Date')\n",
    "price_df.columns = stocks"
   ]
  },
  {
   "cell_type": "code",
   "execution_count": 16,
   "metadata": {},
   "outputs": [
    {
     "data": {
      "text/html": [
       "<div>\n",
       "<style scoped>\n",
       "    .dataframe tbody tr th:only-of-type {\n",
       "        vertical-align: middle;\n",
       "    }\n",
       "\n",
       "    .dataframe tbody tr th {\n",
       "        vertical-align: top;\n",
       "    }\n",
       "\n",
       "    .dataframe thead th {\n",
       "        text-align: right;\n",
       "    }\n",
       "</style>\n",
       "<table border=\"1\" class=\"dataframe\">\n",
       "  <thead>\n",
       "    <tr style=\"text-align: right;\">\n",
       "      <th></th>\n",
       "      <th>FB</th>\n",
       "      <th>AAPL</th>\n",
       "      <th>NFLX</th>\n",
       "      <th>GOOG</th>\n",
       "    </tr>\n",
       "    <tr>\n",
       "      <th>Date</th>\n",
       "      <th></th>\n",
       "      <th></th>\n",
       "      <th></th>\n",
       "      <th></th>\n",
       "    </tr>\n",
       "  </thead>\n",
       "  <tbody>\n",
       "    <tr>\n",
       "      <th>2019-01-03</th>\n",
       "      <td>-0.029039</td>\n",
       "      <td>-0.099607</td>\n",
       "      <td>0.013226</td>\n",
       "      <td>-0.028484</td>\n",
       "    </tr>\n",
       "    <tr>\n",
       "      <th>2019-01-04</th>\n",
       "      <td>0.047138</td>\n",
       "      <td>0.042689</td>\n",
       "      <td>0.097234</td>\n",
       "      <td>0.053786</td>\n",
       "    </tr>\n",
       "    <tr>\n",
       "      <th>2019-01-07</th>\n",
       "      <td>0.000725</td>\n",
       "      <td>-0.002226</td>\n",
       "      <td>0.059717</td>\n",
       "      <td>-0.002167</td>\n",
       "    </tr>\n",
       "    <tr>\n",
       "      <th>2019-01-08</th>\n",
       "      <td>0.032452</td>\n",
       "      <td>0.019063</td>\n",
       "      <td>0.015634</td>\n",
       "      <td>0.007385</td>\n",
       "    </tr>\n",
       "    <tr>\n",
       "      <th>2019-01-09</th>\n",
       "      <td>0.011927</td>\n",
       "      <td>0.016982</td>\n",
       "      <td>-0.000968</td>\n",
       "      <td>-0.001505</td>\n",
       "    </tr>\n",
       "  </tbody>\n",
       "</table>\n",
       "</div>"
      ],
      "text/plain": [
       "                  FB      AAPL      NFLX      GOOG\n",
       "Date                                              \n",
       "2019-01-03 -0.029039 -0.099607  0.013226 -0.028484\n",
       "2019-01-04  0.047138  0.042689  0.097234  0.053786\n",
       "2019-01-07  0.000725 -0.002226  0.059717 -0.002167\n",
       "2019-01-08  0.032452  0.019063  0.015634  0.007385\n",
       "2019-01-09  0.011927  0.016982 -0.000968 -0.001505"
      ]
     },
     "execution_count": 16,
     "metadata": {},
     "output_type": "execute_result"
    }
   ],
   "source": [
    "stocks_ret = price_df.pct_change(1) \n",
    "stocks_ret = stocks_ret[1:]\n",
    "stocks_cov = stocks_ret.cov()\n",
    "stocks_ret.head()"
   ]
  },
  {
   "cell_type": "markdown",
   "metadata": {},
   "source": [
    "### Calculate the four Principal Components of these daily returns"
   ]
  },
  {
   "cell_type": "code",
   "execution_count": 26,
   "metadata": {},
   "outputs": [
    {
     "data": {
      "image/png": "[encoded data removed]",
      "text/plain": [
       "<Figure size 432x288 with 1 Axes>"
      ]
     },
     "metadata": {
      "needs_background": "light"
     },
     "output_type": "display_data"
    },
    {
     "name": "stdout",
     "output_type": "stream",
     "text": [
      "[[ 0.47372903  0.42768021  0.64105787  0.42628072]\n",
      " [ 0.43022586  0.39534827 -0.76388864  0.27400656]\n",
      " [ 0.69878982 -0.71241719  0.00174072 -0.06443215]\n",
      " [-0.31965498 -0.39147302 -0.07426924  0.8596823 ]]\n"
     ]
    }
   ],
   "source": [
    "# USING SKLEARN\n",
    "sklearn_pca = sklearnPCA(n_components=4) # let's look at the first 4 components\n",
    "pc = sklearn_pca.fit_transform(stocks_ret)\n",
    "\n",
    "# plot the variance explained by pcs\n",
    "plt.bar(range(4),sklearn_pca.explained_variance_ratio_)\n",
    "plt.title('variance explained by pc')\n",
    "plt.show()\n",
    "\n",
    "# check the explained variance reatio\n",
    "sklearn_pca.explained_variance_ratio_\n",
    "\n",
    "# get the Principal components\n",
    "pcs =sklearn_pca.components_\n",
    "\n",
    "print(pcs)"
   ]
  },
  {
   "cell_type": "markdown",
   "metadata": {},
   "source": [
    "### Standardize the data and calculate the correlation matrix"
   ]
  },
  {
   "cell_type": "code",
   "execution_count": 32,
   "metadata": {},
   "outputs": [
    {
     "name": "stdout",
     "output_type": "stream",
     "text": [
      "            FB      AAPL      NFLX      GOOG\n",
      "FB    1.004348  0.489153  0.417713  0.575146\n",
      "AAPL  0.489153  1.004348  0.395887  0.566022\n",
      "NFLX  0.417713  0.395887  1.004348  0.466646\n",
      "GOOG  0.575146  0.566022  0.466646  1.004348\n"
     ]
    }
   ],
   "source": [
    "from sklearn import preprocessing\n",
    "# Get column names first\n",
    "stock_names = stocks_ret.columns\n",
    "# Create the Scaler object\n",
    "scaler = preprocessing.StandardScaler()\n",
    "# Fit your data on the scaler object\n",
    "scaled_ret = scaler.fit_transform(stocks_ret)\n",
    "scaled_ret = pd.DataFrame(scaled_ret, columns=stock_names)\n",
    "scaled_cov = scaled_ret.cov()\n",
    "\n",
    "print(scaled_cov)"
   ]
  },
  {
   "cell_type": "markdown",
   "metadata": {},
   "source": [
    "### Calculate the four Principal Components of the standardized daily returns"
   ]
  },
  {
   "cell_type": "code",
   "execution_count": 35,
   "metadata": {},
   "outputs": [
    {
     "data": {
      "image/png": "[encoded data removed]",
      "text/plain": [
       "<Figure size 432x288 with 1 Axes>"
      ]
     },
     "metadata": {
      "needs_background": "light"
     },
     "output_type": "display_data"
    },
    {
     "name": "stdout",
     "output_type": "stream",
     "text": [
      "[[ 0.50746998  0.49990738  0.4516731   0.53717618]\n",
      " [ 0.23263073  0.3806179  -0.87954514  0.16556965]\n",
      " [ 0.71998535 -0.68572802 -0.09861623  0.0409025 ]\n",
      " [-0.4122842  -0.36742306 -0.11254599  0.82604808]]\n"
     ]
    }
   ],
   "source": [
    "# USING SKLEARN\n",
    "sklearn_pca = sklearnPCA(n_components=4) # let's look at the first 4 components\n",
    "pc = sklearn_pca.fit_transform(scaled_ret)\n",
    "\n",
    "# plot the variance explained by pcs\n",
    "plt.bar(range(4),sklearn_pca.explained_variance_ratio_)\n",
    "plt.title('variance explained by pc for standardized return')\n",
    "plt.show()\n",
    "\n",
    "# check the explained variance reatio\n",
    "sklearn_pca.explained_variance_ratio_\n",
    "\n",
    "# get the Principal components\n",
    "pcs =sklearn_pca.components_\n",
    "\n",
    "print(pcs)"
   ]
  },
  {
   "cell_type": "code",
   "execution_count": null,
   "metadata": {},
   "outputs": [],
   "source": []
  }
 ],
 "metadata": {
  "kernelspec": {
   "display_name": "Python 3",
   "language": "python",
   "name": "python3"
  },
  "language_info": {
   "codemirror_mode": {
    "name": "ipython",
    "version": 3
   },
   "file_extension": ".py",
   "mimetype": "text/x-python",
   "name": "python",
   "nbconvert_exporter": "python",
   "pygments_lexer": "ipython3",
   "version": "3.6.7"
  }
 },
 "nbformat": 4,
 "nbformat_minor": 2
}
