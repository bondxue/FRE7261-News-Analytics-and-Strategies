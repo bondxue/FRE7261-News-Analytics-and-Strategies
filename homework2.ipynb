{
 "cells": [
  {
   "cell_type": "markdown",
   "metadata": {},
   "source": [
    "## PRINCIPAL COMPONENT ANALYSIS\n",
    "\n",
    "Consider daily closing prices of the “FANG” stocks from 1/1/2019 until 12/1/2019\n",
    "\n",
    "Facebook (FB)\n",
    "\n",
    "Apple (AAPL)\n",
    "\n",
    "Netflix (NFLX)\n",
    "\n",
    "Google (GOOG)\n",
    "\n",
    "(you can download the closing prices from Yahoo Finance)\n",
    "\n",
    "+ Determine daily return of these stocks\n",
    "+ Calculate the four Principal Components of these daily returns\n",
    "+ Standardize the data and calculate the correlation matrix\n",
    "+ Calculate the four Principal Components of the standardized daily returns"
   ]
  },
  {
   "cell_type": "code",
   "execution_count": 1,
   "metadata": {},
   "outputs": [],
   "source": [
    "import pandas_datareader as pdr\n",
    "import datetime"
   ]
  },
  {
   "cell_type": "markdown",
   "metadata": {},
   "source": [
    "### Determine daily return of these stocks"
   ]
  },
  {
   "cell_type": "code",
   "execution_count": 11,
   "metadata": {},
   "outputs": [],
   "source": [
    "stocks = ['FB', 'AAPL', 'NFLX', 'GOOG']\n",
    "# stocks = 'FB'\n",
    "start = datetime.datetime(2019,1, 1)\n",
    "end = datetime.datetime(2019,12, 1)\n",
    "flag = 0\n",
    "for stock in stocks:\n",
    "    if flag == 0:\n",
    "        price_df = pdr.DataReader(stock, 'yahoo',start,end)\n",
    "        price_df = price_df[['Adj Close']]\n",
    "        \n",
    "        flag = 1\n",
    "    else:\n",
    "        \n",
    "        price_df = pd.merge(price_df, pdr.DataReader(stock, 'yahoo',start,end)[['Adj Close']], on='Date')\n",
    "price_df.columns = stocks"
   ]
  },
  {
   "cell_type": "code",
   "execution_count": 13,
   "metadata": {},
   "outputs": [
    {
     "data": {
      "text/html": [
       "<div>\n",
       "<style scoped>\n",
       "    .dataframe tbody tr th:only-of-type {\n",
       "        vertical-align: middle;\n",
       "    }\n",
       "\n",
       "    .dataframe tbody tr th {\n",
       "        vertical-align: top;\n",
       "    }\n",
       "\n",
       "    .dataframe thead th {\n",
       "        text-align: right;\n",
       "    }\n",
       "</style>\n",
       "<table border=\"1\" class=\"dataframe\">\n",
       "  <thead>\n",
       "    <tr style=\"text-align: right;\">\n",
       "      <th></th>\n",
       "      <th>FB</th>\n",
       "      <th>AAPL</th>\n",
       "      <th>NFLX</th>\n",
       "      <th>GOOG</th>\n",
       "    </tr>\n",
       "    <tr>\n",
       "      <th>Date</th>\n",
       "      <th></th>\n",
       "      <th></th>\n",
       "      <th></th>\n",
       "      <th></th>\n",
       "    </tr>\n",
       "  </thead>\n",
       "  <tbody>\n",
       "    <tr>\n",
       "      <th>2019-01-02</th>\n",
       "      <td>NaN</td>\n",
       "      <td>NaN</td>\n",
       "      <td>NaN</td>\n",
       "      <td>NaN</td>\n",
       "    </tr>\n",
       "    <tr>\n",
       "      <th>2019-01-03</th>\n",
       "      <td>-0.029039</td>\n",
       "      <td>-0.099607</td>\n",
       "      <td>0.013226</td>\n",
       "      <td>-0.028484</td>\n",
       "    </tr>\n",
       "    <tr>\n",
       "      <th>2019-01-04</th>\n",
       "      <td>0.047138</td>\n",
       "      <td>0.042689</td>\n",
       "      <td>0.097234</td>\n",
       "      <td>0.053786</td>\n",
       "    </tr>\n",
       "    <tr>\n",
       "      <th>2019-01-07</th>\n",
       "      <td>0.000725</td>\n",
       "      <td>-0.002226</td>\n",
       "      <td>0.059717</td>\n",
       "      <td>-0.002167</td>\n",
       "    </tr>\n",
       "    <tr>\n",
       "      <th>2019-01-08</th>\n",
       "      <td>0.032452</td>\n",
       "      <td>0.019063</td>\n",
       "      <td>0.015634</td>\n",
       "      <td>0.007385</td>\n",
       "    </tr>\n",
       "  </tbody>\n",
       "</table>\n",
       "</div>"
      ],
      "text/plain": [
       "                  FB      AAPL      NFLX      GOOG\n",
       "Date                                              \n",
       "2019-01-02       NaN       NaN       NaN       NaN\n",
       "2019-01-03 -0.029039 -0.099607  0.013226 -0.028484\n",
       "2019-01-04  0.047138  0.042689  0.097234  0.053786\n",
       "2019-01-07  0.000725 -0.002226  0.059717 -0.002167\n",
       "2019-01-08  0.032452  0.019063  0.015634  0.007385"
      ]
     },
     "execution_count": 13,
     "metadata": {},
     "output_type": "execute_result"
    }
   ],
   "source": [
    "daily_return = price_df.pct_change(1) \n",
    "daily_return.head()"
   ]
  },
  {
   "cell_type": "markdown",
   "metadata": {},
   "source": [
    "### Calculate the four Principal Components of these daily returns"
   ]
  },
  {
   "cell_type": "code",
   "execution_count": null,
   "metadata": {},
   "outputs": [],
   "source": []
  }
 ],
 "metadata": {
  "kernelspec": {
   "display_name": "Python 3",
   "language": "python",
   "name": "python3"
  },
  "language_info": {
   "codemirror_mode": {
    "name": "ipython",
    "version": 3
   },
   "file_extension": ".py",
   "mimetype": "text/x-python",
   "name": "python",
   "nbconvert_exporter": "python",
   "pygments_lexer": "ipython3",
   "version": "3.6.7"
  }
 },
 "nbformat": 4,
 "nbformat_minor": 2
}
