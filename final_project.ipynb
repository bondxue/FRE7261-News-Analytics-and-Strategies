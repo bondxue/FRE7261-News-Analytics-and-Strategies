{
 "cells": [
  {
   "cell_type": "markdown",
   "metadata": {},
   "source": [
    "## Final Project\n",
    "\n",
    "+ You can form teams of up to 4 people\n",
    "\n",
    "+ Consider the following 5 stocks:\n",
    "    1. Apple(AAPL)\n",
    "    2. AT&T (T)\n",
    "    3. NETFLIX (NFLX)\n",
    "    4. General Electric (GE)\n",
    "    5. Boeing (BA)\n",
    "\n",
    "+ Using Yahoo finance, for each of these stocks, consider statements under the “Conversation” tab that are at most 5 days old. Create a lexicon (dictionary) of words that show positive sentiments and negative sentiments.\n",
    "\n",
    "+ Consider the vector (stock, feature, time, sentiment) where:\n",
    "    * Stock = AAPL, T, NFLX, GE, BA\n",
    "    * Feature = can be important items such as sales, dividend, grounding\n",
    "    * Time = in days where 0 is today, 1, yesterday, 4 is five days ago\n",
    "    * Sentiment = Positive (1), Negative (-1), Neutral (0).\n",
    "\n",
    "+ Determine this vector for all the statements of the “Conversations” that are about that particular stock and put them in an EXCEL sheet.\n",
    "\n",
    "+ Do a pie chart of sentiment for each of the 5 days and based on that determine whether the sentiment about the stock is positive, negative, or neutral.\n",
    "\n",
    "+ Plot the sentiment for the past five days vs Open, Close, High, Low, and Volume of the stock.\n",
    "\n",
    "+ Does there seem to be a correlation between sentiment and the price, volume and volatility.\n",
    "\n",
    "+ You can also perform other analysis that is of interest to the group\n",
    "    * I will ask the team to present its analysis about one of the stocks.\n",
    "    * The team will submit its work that should include the name of team members."
   ]
  },
  {
   "cell_type": "code",
   "execution_count": null,
   "metadata": {},
   "outputs": [],
   "source": []
  },
  {
   "cell_type": "code",
   "execution_count": null,
   "metadata": {},
   "outputs": [],
   "source": []
  }
 ],
 "metadata": {
  "kernelspec": {
   "display_name": "Python 3",
   "language": "python",
   "name": "python3"
  },
  "language_info": {
   "codemirror_mode": {
    "name": "ipython",
    "version": 3
   },
   "file_extension": ".py",
   "mimetype": "text/x-python",
   "name": "python",
   "nbconvert_exporter": "python",
   "pygments_lexer": "ipython3",
   "version": "3.6.7"
  }
 },
 "nbformat": 4,
 "nbformat_minor": 2
}
