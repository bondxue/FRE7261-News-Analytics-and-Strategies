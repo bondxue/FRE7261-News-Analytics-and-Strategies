{
 "cells": [
  {
   "cell_type": "markdown",
   "metadata": {},
   "source": [
    "## Final Project\n",
    "\n",
    "+ You can form teams of up to 4 people\n",
    "\n",
    "+ Consider the following 5 stocks:\n",
    "    1. Apple(AAPL)\n",
    "    2. AT&T (T)\n",
    "    3. NETFLIX (NFLX)\n",
    "    4. General Electric (GE)\n",
    "    5. Boeing (BA)\n",
    "\n",
    "+ Using Yahoo finance, for each of these stocks, consider statements under the “Conversation” tab that are at most 5 days old. Create a lexicon (dictionary) of words that show positive sentiments and negative sentiments.\n",
    "\n",
    "+ Consider the vector (stock, feature, time, sentiment) where:\n",
    "    * Stock = AAPL, T, NFLX, GE, BA\n",
    "    * Feature = can be important items such as sales, dividend, grounding\n",
    "    * Time = in days where 0 is today, 1, yesterday, 4 is five days ago\n",
    "    * Sentiment = Positive (1), Negative (-1), Neutral (0).\n",
    "\n",
    "+ Determine this vector for all the statements of the “Conversations” that are about that particular stock and put them in an EXCEL sheet.\n",
    "\n",
    "+ Do a pie chart of sentiment for each of the 5 days and based on that determine whether the sentiment about the stock is positive, negative, or neutral.\n",
    "\n",
    "+ Plot the sentiment for the past five days vs Open, Close, High, Low, and Volume of the stock.\n",
    "\n",
    "+ Does there seem to be a correlation between sentiment and the price, volume and volatility.\n",
    "\n",
    "+ You can also perform other analysis that is of interest to the group\n",
    "    * I will ask the team to present its analysis about one of the stocks.\n",
    "    * The team will submit its work that should include the name of team members."
   ]
  },
  {
   "cell_type": "code",
   "execution_count": 1,
   "metadata": {},
   "outputs": [],
   "source": [
    "import numpy as np\n",
    "import matplotlib.pyplot as plt\n",
    "import pandas as pd\n",
    "from sklearn.decomposition import PCA as sklearnPCA\n",
    "import pandas_datareader as pdr\n",
    "import datetime"
   ]
  },
  {
   "cell_type": "code",
   "execution_count": 2,
   "metadata": {},
   "outputs": [],
   "source": [
    "stocks = ['AAPL', 'T', 'NFLX', 'GE', 'BA']\n",
    "# stocks = 'FB'\n",
    "start = datetime.datetime(2019,12, 2)\n",
    "end = datetime.datetime(2019,12, 8)\n",
    "flag = 0\n",
    "for stock in stocks:\n",
    "    if flag == 0:\n",
    "        price_df = pdr.DataReader(stock, 'yahoo',start,end)\n",
    "        price_df = price_df[['Adj Close']]\n",
    "        \n",
    "        flag = 1\n",
    "    else:       \n",
    "        price_df = pd.merge(price_df, pdr.DataReader(stock, 'yahoo',start,end)[['Adj Close']], on='Date')\n",
    "price_df.columns = stocks"
   ]
  },
  {
   "cell_type": "code",
   "execution_count": 3,
   "metadata": {},
   "outputs": [
    {
     "data": {
      "text/html": [
       "<div>\n",
       "<style scoped>\n",
       "    .dataframe tbody tr th:only-of-type {\n",
       "        vertical-align: middle;\n",
       "    }\n",
       "\n",
       "    .dataframe tbody tr th {\n",
       "        vertical-align: top;\n",
       "    }\n",
       "\n",
       "    .dataframe thead th {\n",
       "        text-align: right;\n",
       "    }\n",
       "</style>\n",
       "<table border=\"1\" class=\"dataframe\">\n",
       "  <thead>\n",
       "    <tr style=\"text-align: right;\">\n",
       "      <th></th>\n",
       "      <th>AAPL</th>\n",
       "      <th>T</th>\n",
       "      <th>NFLX</th>\n",
       "      <th>GE</th>\n",
       "      <th>BA</th>\n",
       "    </tr>\n",
       "    <tr>\n",
       "      <th>Date</th>\n",
       "      <th></th>\n",
       "      <th></th>\n",
       "      <th></th>\n",
       "      <th></th>\n",
       "      <th></th>\n",
       "    </tr>\n",
       "  </thead>\n",
       "  <tbody>\n",
       "    <tr>\n",
       "      <th>2019-12-03</th>\n",
       "      <td>-0.017830</td>\n",
       "      <td>0.006163</td>\n",
       "      <td>-0.012355</td>\n",
       "      <td>-0.015233</td>\n",
       "      <td>-0.008728</td>\n",
       "    </tr>\n",
       "    <tr>\n",
       "      <th>2019-12-04</th>\n",
       "      <td>0.008826</td>\n",
       "      <td>0.014647</td>\n",
       "      <td>-0.006010</td>\n",
       "      <td>-0.008189</td>\n",
       "      <td>-0.009202</td>\n",
       "    </tr>\n",
       "    <tr>\n",
       "      <th>2019-12-05</th>\n",
       "      <td>0.014671</td>\n",
       "      <td>0.002362</td>\n",
       "      <td>-0.004798</td>\n",
       "      <td>-0.010092</td>\n",
       "      <td>-0.009059</td>\n",
       "    </tr>\n",
       "    <tr>\n",
       "      <th>2019-12-06</th>\n",
       "      <td>0.019316</td>\n",
       "      <td>0.000262</td>\n",
       "      <td>0.014825</td>\n",
       "      <td>0.028730</td>\n",
       "      <td>0.024329</td>\n",
       "    </tr>\n",
       "  </tbody>\n",
       "</table>\n",
       "</div>"
      ],
      "text/plain": [
       "                AAPL         T      NFLX        GE        BA\n",
       "Date                                                        \n",
       "2019-12-03 -0.017830  0.006163 -0.012355 -0.015233 -0.008728\n",
       "2019-12-04  0.008826  0.014647 -0.006010 -0.008189 -0.009202\n",
       "2019-12-05  0.014671  0.002362 -0.004798 -0.010092 -0.009059\n",
       "2019-12-06  0.019316  0.000262  0.014825  0.028730  0.024329"
      ]
     },
     "execution_count": 3,
     "metadata": {},
     "output_type": "execute_result"
    }
   ],
   "source": [
    "stocks_ret = price_df.pct_change(1) \n",
    "stocks_ret = stocks_ret[1:]\n",
    "stocks_cov = stocks_ret.cov()\n",
    "stocks_ret.head()"
   ]
  },
  {
   "cell_type": "code",
   "execution_count": 4,
   "metadata": {},
   "outputs": [
    {
     "data": {
      "text/html": [
       "<div>\n",
       "<style scoped>\n",
       "    .dataframe tbody tr th:only-of-type {\n",
       "        vertical-align: middle;\n",
       "    }\n",
       "\n",
       "    .dataframe tbody tr th {\n",
       "        vertical-align: top;\n",
       "    }\n",
       "\n",
       "    .dataframe thead th {\n",
       "        text-align: right;\n",
       "    }\n",
       "</style>\n",
       "<table border=\"1\" class=\"dataframe\">\n",
       "  <thead>\n",
       "    <tr style=\"text-align: right;\">\n",
       "      <th></th>\n",
       "      <th>High</th>\n",
       "      <th>Low</th>\n",
       "      <th>Open</th>\n",
       "      <th>Close</th>\n",
       "      <th>Volume</th>\n",
       "      <th>Adj Close</th>\n",
       "    </tr>\n",
       "    <tr>\n",
       "      <th>Date</th>\n",
       "      <th></th>\n",
       "      <th></th>\n",
       "      <th></th>\n",
       "      <th></th>\n",
       "      <th></th>\n",
       "      <th></th>\n",
       "    </tr>\n",
       "  </thead>\n",
       "  <tbody>\n",
       "    <tr>\n",
       "      <th>2019-12-02</th>\n",
       "      <td>268.250000</td>\n",
       "      <td>263.450012</td>\n",
       "      <td>267.269989</td>\n",
       "      <td>264.160004</td>\n",
       "      <td>23621800</td>\n",
       "      <td>264.160004</td>\n",
       "    </tr>\n",
       "    <tr>\n",
       "      <th>2019-12-03</th>\n",
       "      <td>259.529999</td>\n",
       "      <td>256.290009</td>\n",
       "      <td>258.309998</td>\n",
       "      <td>259.450012</td>\n",
       "      <td>28607600</td>\n",
       "      <td>259.450012</td>\n",
       "    </tr>\n",
       "    <tr>\n",
       "      <th>2019-12-04</th>\n",
       "      <td>263.309998</td>\n",
       "      <td>260.679993</td>\n",
       "      <td>261.070007</td>\n",
       "      <td>261.739990</td>\n",
       "      <td>16795400</td>\n",
       "      <td>261.739990</td>\n",
       "    </tr>\n",
       "    <tr>\n",
       "      <th>2019-12-05</th>\n",
       "      <td>265.890015</td>\n",
       "      <td>262.730011</td>\n",
       "      <td>263.790009</td>\n",
       "      <td>265.579987</td>\n",
       "      <td>18606100</td>\n",
       "      <td>265.579987</td>\n",
       "    </tr>\n",
       "    <tr>\n",
       "      <th>2019-12-06</th>\n",
       "      <td>271.000000</td>\n",
       "      <td>267.510010</td>\n",
       "      <td>267.480011</td>\n",
       "      <td>270.709991</td>\n",
       "      <td>26547493</td>\n",
       "      <td>270.709991</td>\n",
       "    </tr>\n",
       "  </tbody>\n",
       "</table>\n",
       "</div>"
      ],
      "text/plain": [
       "                  High         Low        Open       Close    Volume  \\\n",
       "Date                                                                   \n",
       "2019-12-02  268.250000  263.450012  267.269989  264.160004  23621800   \n",
       "2019-12-03  259.529999  256.290009  258.309998  259.450012  28607600   \n",
       "2019-12-04  263.309998  260.679993  261.070007  261.739990  16795400   \n",
       "2019-12-05  265.890015  262.730011  263.790009  265.579987  18606100   \n",
       "2019-12-06  271.000000  267.510010  267.480011  270.709991  26547493   \n",
       "\n",
       "             Adj Close  \n",
       "Date                    \n",
       "2019-12-02  264.160004  \n",
       "2019-12-03  259.450012  \n",
       "2019-12-04  261.739990  \n",
       "2019-12-05  265.579987  \n",
       "2019-12-06  270.709991  "
      ]
     },
     "execution_count": 4,
     "metadata": {},
     "output_type": "execute_result"
    }
   ],
   "source": [
    "stock_df = pdr.DataReader('AAPL', 'yahoo',start,end)\n",
    "stock_df.head()"
   ]
  },
  {
   "cell_type": "code",
   "execution_count": 17,
   "metadata": {},
   "outputs": [],
   "source": [
    "sent_df = pd.read_csv('News.csv')\n",
    "sent_df = sent_df.set_index('Date')\n",
    "df = pd.concat([stock_df, sent_df], axis=1)\n",
    "# df.reset_index(drop=False)\n",
    "\n",
    "date1 = datetime.datetime(2019,12, 2)\n",
    "date2 = datetime.datetime(2019,12, 3)\n",
    "date3 = datetime.datetime(2019,12, 4)\n",
    "date4 = datetime.datetime(2019,12, 5)\n",
    "date5 = datetime.datetime(2019,12, 6)\n",
    "Dates = [date1,date2, date3, date4, date5]\n",
    "days = [1, 2, 3, 4, 5]"
   ]
  },
  {
   "cell_type": "markdown",
   "metadata": {},
   "source": [
    "### Plot the sentiment for the past five days vs Open, Close, High, Low, and Volume of the stock."
   ]
  },
  {
   "cell_type": "code",
   "execution_count": 24,
   "metadata": {},
   "outputs": [
    {
     "data": {
      "image/png": "[encoded data removed]",
      "text/plain": [
       "<Figure size 432x288 with 1 Axes>"
      ]
     },
     "metadata": {},
     "output_type": "display_data"
    },
    {
     "data": {
      "image/png": "[encoded data removed]",
      "text/plain": [
       "<Figure size 432x288 with 1 Axes>"
      ]
     },
     "metadata": {},
     "output_type": "display_data"
    },
    {
     "data": {
      "image/png": "[encoded data removed]",
      "text/plain": [
       "<Figure size 432x288 with 1 Axes>"
      ]
     },
     "metadata": {},
     "output_type": "display_data"
    },
    {
     "data": {
      "image/png": "[encoded data removed]",
      "text/plain": [
       "<Figure size 432x288 with 1 Axes>"
      ]
     },
     "metadata": {},
     "output_type": "display_data"
    }
   ],
   "source": [
    "plt.style.use('ggplot')\n",
    "\n",
    "colors = {-1:'red', 0:'blue', 1:'green'}\n",
    "\n",
    "\n",
    "def sent_plot(item):\n",
    "    plt.scatter(days, df[item],s=50, c=df['Sentiment'].apply(lambda x: colors[x]), alpha=0.8, label='close', edgecolor='none')\n",
    "    plt.ylabel(item)\n",
    "    plt.xlabel('Day #')\n",
    "    plt.title('Sentiment vs {}'.format(item))\n",
    "    plt.show()\n",
    "\n",
    "sent_plot('Adj Close')\n",
    "sent_plot('High')\n",
    "sent_plot('Low')\n",
    "sent_plot('Open')\n",
    "\n",
    "\n",
    "# colors = {-1:'red', 0:'blue', 1:'green'}\n",
    "# plt.scatter(x='Low', y='Adj Close', c=df['Sentiment'].apply(lambda x: colors[x]))\n",
    "\n",
    "# plt.scatter(df['Date'], df['Adj Close'], c=df['Sentiment'].apply(lambda x: colors[x]))"
   ]
  },
  {
   "cell_type": "markdown",
   "metadata": {},
   "source": [
    "### Volitatily "
   ]
  },
  {
   "cell_type": "code",
   "execution_count": 31,
   "metadata": {},
   "outputs": [],
   "source": [
    "import numpy as np\n",
    "import pandas as pd\n",
    "import matplotlib.pyplot as plt\n",
    "%matplotlib inline\n",
    "import requests\n",
    "import datetime as dt\n",
    "import urllib.request\n",
    "import random\n",
    "import arrow\n",
    "import json"
   ]
  },
  {
   "cell_type": "code",
   "execution_count": 32,
   "metadata": {},
   "outputs": [],
   "source": [
    "# use proxies as spiders\n",
    "def url_openproxy(url):\n",
    "    req=urllib.request.Request(url)\n",
    "    req.add_header('User-Agent', 'Mozilla/5.0 (Windows NT 6.1; WOW64) AppleWebKit/537.36 (KHTML, like Gecko) Chrome/71.0.3578.98 Safari/537.36')\n",
    "    \n",
    "    proxies=['119.6.144.70:81','111.1.36.9:80','203.144.144.162:8080']\n",
    "    proxy=random.choice(proxies)\n",
    "    proxy_sup=urllib.request.ProxyHandler({'http':proxy})\n",
    "    opener=urllib.request.build_opener(proxy_sup)\n",
    "    urllib.request.install_opener(opener)\n",
    "    \n",
    "    response=urllib.request.urlopen(url)\n",
    "    html=response.read()\n",
    "   \n",
    "    return html \n",
    "\n",
    "# retrieving high frequency data\n",
    "def get_quote_data(symbol='SBIN.NS', data_range='1d', data_interval='1m'):\n",
    "    res = url_openproxy('https://query1.finance.yahoo.com/v8/finance/chart/{symbol}?range={data_range}&interval={data_interval}'.format(**locals()))\n",
    "    data = json.loads(res.decode('utf-8'))\n",
    "    body = data['chart']['result'][0]    \n",
    "    dt = pd.Series(map(lambda x: arrow.get(x).to('EST').datetime.replace(tzinfo=None), body['timestamp']), name='Datetime')\n",
    "    df = pd.DataFrame(body['indicators']['quote'][0], index=dt)\n",
    "    dg = pd.DataFrame(body['timestamp'])    \n",
    "    df = df.loc[:, ('open', 'high', 'low', 'close', 'volume')]\n",
    "    df.dropna(inplace=True)     #removing NaN rows\n",
    "    df.columns = ['OPEN', 'HIGH','LOW','CLOSE','VOLUME']    #Renaming columns in pandas\n",
    "    \n",
    "    return df"
   ]
  },
  {
   "cell_type": "code",
   "execution_count": 53,
   "metadata": {},
   "outputs": [
    {
     "data": {
      "text/html": [
       "<div>\n",
       "<style scoped>\n",
       "    .dataframe tbody tr th:only-of-type {\n",
       "        vertical-align: middle;\n",
       "    }\n",
       "\n",
       "    .dataframe tbody tr th {\n",
       "        vertical-align: top;\n",
       "    }\n",
       "\n",
       "    .dataframe thead th {\n",
       "        text-align: right;\n",
       "    }\n",
       "</style>\n",
       "<table border=\"1\" class=\"dataframe\">\n",
       "  <thead>\n",
       "    <tr style=\"text-align: right;\">\n",
       "      <th></th>\n",
       "      <th>OPEN</th>\n",
       "      <th>HIGH</th>\n",
       "      <th>LOW</th>\n",
       "      <th>CLOSE</th>\n",
       "      <th>VOLUME</th>\n",
       "    </tr>\n",
       "  </thead>\n",
       "  <tbody>\n",
       "    <tr>\n",
       "      <th>2019-12-02</th>\n",
       "      <td>3143.850098</td>\n",
       "      <td>3144.260010</td>\n",
       "      <td>3129.570068</td>\n",
       "      <td>3129.639893</td>\n",
       "      <td>139724890</td>\n",
       "    </tr>\n",
       "    <tr>\n",
       "      <th>2019-12-02</th>\n",
       "      <td>3129.699951</td>\n",
       "      <td>3129.699951</td>\n",
       "      <td>3117.330078</td>\n",
       "      <td>3120.949951</td>\n",
       "      <td>150122343</td>\n",
       "    </tr>\n",
       "    <tr>\n",
       "      <th>2019-12-02</th>\n",
       "      <td>3121.100098</td>\n",
       "      <td>3121.820068</td>\n",
       "      <td>3111.929932</td>\n",
       "      <td>3114.110107</td>\n",
       "      <td>124817359</td>\n",
       "    </tr>\n",
       "    <tr>\n",
       "      <th>2019-12-02</th>\n",
       "      <td>3114.060059</td>\n",
       "      <td>3117.149902</td>\n",
       "      <td>3110.780029</td>\n",
       "      <td>3116.169922</td>\n",
       "      <td>100600610</td>\n",
       "    </tr>\n",
       "    <tr>\n",
       "      <th>2019-12-02</th>\n",
       "      <td>3116.199951</td>\n",
       "      <td>3119.260010</td>\n",
       "      <td>3111.780029</td>\n",
       "      <td>3118.669922</td>\n",
       "      <td>86501377</td>\n",
       "    </tr>\n",
       "  </tbody>\n",
       "</table>\n",
       "</div>"
      ],
      "text/plain": [
       "                   OPEN         HIGH          LOW        CLOSE     VOLUME\n",
       "2019-12-02  3143.850098  3144.260010  3129.570068  3129.639893  139724890\n",
       "2019-12-02  3129.699951  3129.699951  3117.330078  3120.949951  150122343\n",
       "2019-12-02  3121.100098  3121.820068  3111.929932  3114.110107  124817359\n",
       "2019-12-02  3114.060059  3117.149902  3110.780029  3116.169922  100600610\n",
       "2019-12-02  3116.199951  3119.260010  3111.780029  3118.669922   86501377"
      ]
     },
     "execution_count": 53,
     "metadata": {},
     "output_type": "execute_result"
    }
   ],
   "source": [
    "# obtain S&P500 30-minute price and volume\n",
    "df =get_quote_data('^GSPC', '5d', '30m')\n",
    "df.index = df.index.date\n",
    "df = df.set_index(pd.to_datetime(df.index))\n",
    "df.head()"
   ]
  },
  {
   "cell_type": "code",
   "execution_count": 71,
   "metadata": {},
   "outputs": [
    {
     "name": "stdout",
     "output_type": "stream",
     "text": [
      "[4.433309819277682, 5.135535176432929, 1.806002382936145, 2.912904038928642, 1.9047517520879371]\n"
     ]
    }
   ],
   "source": [
    "date1 = datetime.datetime(2019,12, 2)\n",
    "date2 = datetime.datetime(2019,12, 3)\n",
    "date3 = datetime.datetime(2019,12, 4)\n",
    "date4 = datetime.datetime(2019,12, 5)\n",
    "date5 = datetime.datetime(2019,12, 6)\n",
    "dates = [date1,date2, date3, date4, date5]\n",
    "\n",
    "vol = float(df.loc[df.index == datetime.datetime(2019,12, 2)][['CLOSE']].std())\n",
    "vols = []\n",
    "\n",
    "for date in dates:\n",
    "    vol = float(df.loc[df.index == date][['CLOSE']].std())\n",
    "    vols.append(vol)\n",
    "print(vols)\n"
   ]
  },
  {
   "cell_type": "code",
   "execution_count": 44,
   "metadata": {},
   "outputs": [
    {
     "data": {
      "text/html": [
       "<div>\n",
       "<style scoped>\n",
       "    .dataframe tbody tr th:only-of-type {\n",
       "        vertical-align: middle;\n",
       "    }\n",
       "\n",
       "    .dataframe tbody tr th {\n",
       "        vertical-align: top;\n",
       "    }\n",
       "\n",
       "    .dataframe thead th {\n",
       "        text-align: right;\n",
       "    }\n",
       "</style>\n",
       "<table border=\"1\" class=\"dataframe\">\n",
       "  <thead>\n",
       "    <tr style=\"text-align: right;\">\n",
       "      <th></th>\n",
       "      <th>OPEN</th>\n",
       "      <th>HIGH</th>\n",
       "      <th>LOW</th>\n",
       "      <th>CLOSE</th>\n",
       "      <th>VOLUME</th>\n",
       "    </tr>\n",
       "  </thead>\n",
       "  <tbody>\n",
       "  </tbody>\n",
       "</table>\n",
       "</div>"
      ],
      "text/plain": [
       "Empty DataFrame\n",
       "Columns: [OPEN, HIGH, LOW, CLOSE, VOLUME]\n",
       "Index: []"
      ]
     },
     "execution_count": 44,
     "metadata": {},
     "output_type": "execute_result"
    }
   ],
   "source": [
    "df.loc[df.index == datetime.datetime(2019,12, 2)]"
   ]
  },
  {
   "cell_type": "code",
   "execution_count": null,
   "metadata": {},
   "outputs": [],
   "source": []
  }
 ],
 "metadata": {
  "kernelspec": {
   "display_name": "Python 3",
   "language": "python",
   "name": "python3"
  },
  "language_info": {
   "codemirror_mode": {
    "name": "ipython",
    "version": 3
   },
   "file_extension": ".py",
   "mimetype": "text/x-python",
   "name": "python",
   "nbconvert_exporter": "python",
   "pygments_lexer": "ipython3",
   "version": "3.6.7"
  }
 },
 "nbformat": 4,
 "nbformat_minor": 2
}
